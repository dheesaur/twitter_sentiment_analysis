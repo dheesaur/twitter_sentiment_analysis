{
 "cells": [
  {
   "cell_type": "code",
   "execution_count": 32,
   "metadata": {
    "collapsed": true
   },
   "outputs": [],
   "source": [
    "#twitter sentiment analysis using tweepy and textblob libraries\n",
    "#author:dheesaur"
   ]
  },
  {
   "cell_type": "code",
   "execution_count": 1,
   "metadata": {
    "collapsed": true
   },
   "outputs": [],
   "source": [
    "import tweepy"
   ]
  },
  {
   "cell_type": "code",
   "execution_count": 2,
   "metadata": {
    "collapsed": true
   },
   "outputs": [],
   "source": [
    "from textblob import TextBlob"
   ]
  },
  {
   "cell_type": "code",
   "execution_count": 5,
   "metadata": {
    "collapsed": true
   },
   "outputs": [],
   "source": [
    "from tweepy.auth import OAuthHandler"
   ]
  },
  {
   "cell_type": "code",
   "execution_count": 25,
   "metadata": {
    "collapsed": true
   },
   "outputs": [],
   "source": [
    "import numpy as np"
   ]
  },
  {
   "cell_type": "code",
   "execution_count": 26,
   "metadata": {
    "collapsed": true
   },
   "outputs": [],
   "source": [
    "import operator"
   ]
  },
  {
   "cell_type": "code",
   "execution_count": 3,
   "metadata": {
    "collapsed": true
   },
   "outputs": [],
   "source": [
    "consumer_key='qEHk5rvmu5vUkKUkPVrPPubkb'\n",
    "consumer_secret='GYBZ742bztR2rkxiuQlivkHAnSZPzZ6VOROPjHYxT94v7tpn7o'\n",
    "\n",
    "access_token='974627842293039104-8hHo3rRCSLSwtcU67JRDaaxEMVZKZgy'\n",
    "access_token_secret='BploUE6g7uF0HA5NJGa4lJyXNu9aaHTI4KPqVYxfmdllX'\n"
   ]
  },
  {
   "cell_type": "code",
   "execution_count": 12,
   "metadata": {},
   "outputs": [],
   "source": [
    "auth=OAuthHandler(consumer_key, consumer_secret)\n",
    "auth.set_access_token(access_token, access_token_secret)\n",
    "\n",
    "\n",
    "\n"
   ]
  },
  {
   "cell_type": "code",
   "execution_count": 13,
   "metadata": {
    "collapsed": true
   },
   "outputs": [],
   "source": [
    "api=tweepy.API(auth)"
   ]
  },
  {
   "cell_type": "code",
   "execution_count": 16,
   "metadata": {
    "collapsed": true
   },
   "outputs": [],
   "source": [
    "public_tweets=api.search('Bengaluru')"
   ]
  },
  {
   "cell_type": "code",
   "execution_count": 17,
   "metadata": {},
   "outputs": [
    {
     "name": "stdout",
     "output_type": "stream",
     "text": [
      "RT @MATTSMATTS: With the addition of Metro Bengaluru is now more cosmopolitan\n",
      "#AtHomeInBengaluru https://t.co/vNZxDZ0bu5\n",
      "Sentiment(polarity=0.25, subjectivity=0.3)\n",
      "\n",
      "Immense pleasure &amp; happiness is all which is experienced in Bengaluru:) #AtHomeInBengaluru\n",
      "https://t.co/jBveWSF8b9\n",
      "@PiramalHFL\n",
      "Sentiment(polarity=0.5, subjectivity=0.775)\n",
      "\n",
      "RT @theskindoctor13: A poor Aam Aadmi sipping \"gud wala chai\" after hours of hardwork in fields at Village : Jindal Resorts District : Beng…\n",
      "Sentiment(polarity=-0.4, subjectivity=0.6)\n",
      "\n",
      "RT @ArtofLiving: BBC placed Bengaluru second on the list of cities that are facing a crisis similar to Cape Town. Currently, the crisis in…\n",
      "Sentiment(polarity=0.0, subjectivity=0.26666666666666666)\n",
      "\n",
      "Whenever I visit Bengaluru, always get the immense pleasure:) #AtHomeInBengaluru\n",
      "https://t.co/jBveWSWJzJ\n",
      "@PiramalHFL\n",
      "Sentiment(polarity=0.25, subjectivity=1.0)\n",
      "\n",
      "That's great! There are so many places to roam around in Bengaluru\n",
      "#AtHomeInBengaluru\n",
      "https://t.co/jBveWSWJzJ\n",
      "@PiramalHFL\n",
      "Sentiment(polarity=0.75, subjectivity=0.625)\n",
      "\n",
      "RT @Ra_THORe: Day 2 with colleagues of @BJP4Karnataka in Yeshwanthpur, Bengaluru. A fruitful discussion on building a culture of ownership…\n",
      "Sentiment(polarity=0.0, subjectivity=0.0)\n",
      "\n",
      "Hurray! Always love to visit Bengaluru! One of the best place for sure #AtHomeInBengaluru\n",
      "https://t.co/jBveWSWJzJ\n",
      "@PiramalHFL\n",
      "Sentiment(polarity=0.7083333333333334, subjectivity=0.5962962962962962)\n",
      "\n",
      "RT @Ra_THORe: Day 2 with colleagues of @BJP4Karnataka in Yeshwanthpur, Bengaluru. A fruitful discussion on building a culture of ownership…\n",
      "Sentiment(polarity=0.0, subjectivity=0.0)\n",
      "\n",
      "RT @Kgsgfa: Join us for the Namma #Bengaluru Awards 2018 on Sunday, March 25 at NMKRV College, #Jayanagar from 4.30 pm onward as we celebra…\n",
      "Sentiment(polarity=0.0, subjectivity=0.0)\n",
      "\n",
      "RT @Taranti05949907: I love the flowering trees of Bengaluru. Haters may hate but i am #AtHomeInBengaluru https://t.co/LPazbM68ko\n",
      "Sentiment(polarity=-0.15000000000000002, subjectivity=0.75)\n",
      "\n",
      "RT @Romeostarvinay7: Join us for the Namma #Bengaluru Awards 2018 on Sunday, March 25 at NMKRV College, #Jayanagar from 4.30pm onward as we…\n",
      "Sentiment(polarity=0.0, subjectivity=0.0)\n",
      "\n",
      "RT @INCIndia: Rafale deal was taken away from a public sector enterprise in Bengaluru and given to PM Modi's friend. This stole the jobs fr…\n",
      "Sentiment(polarity=0.0, subjectivity=0.06666666666666667)\n",
      "\n",
      "The Bull Temple is know to be the in Bengaluru's oldest temple @PiramalHFL everyone should check it out.… https://t.co/dhl0QFnozH\n",
      "Sentiment(polarity=0.0, subjectivity=0.0)\n",
      "\n",
      "See our latest #Bengaluru, KA #job and click to apply: Senior Officer/Analyst (Technology &amp; Operations / MWS Operat… https://t.co/hvA0iGIflM\n",
      "Sentiment(polarity=0.5, subjectivity=0.9)\n",
      "\n"
     ]
    }
   ],
   "source": [
    "for tweet in public_tweets:\n",
    "    print(tweet.text)\n",
    "    analysis =TextBlob(tweet.text)\n",
    "    print(analysis.sentiment)\n",
    "    print(\"\")"
   ]
  },
  {
   "cell_type": "code",
   "execution_count": 18,
   "metadata": {
    "collapsed": true
   },
   "outputs": [],
   "source": [
    "def get_label(analysis, threshold=0):\n",
    "    if analysis.sentiment [0] > threshold:\n",
    "        return 'Positive'\n",
    "    else:\n",
    "        return 'Negative'"
   ]
  },
  {
   "cell_type": "code",
   "execution_count": 20,
   "metadata": {
    "collapsed": true
   },
   "outputs": [],
   "source": [
    "city_names=['Hyderabad', 'Chennai', 'Bangalore', 'Delhi']\n",
    "since_date='2017-10-13'\n",
    "until_date='2017-10-14'\n"
   ]
  },
  {
   "cell_type": "code",
   "execution_count": 28,
   "metadata": {
    "collapsed": true
   },
   "outputs": [],
   "source": [
    "all_polarities=dict()"
   ]
  },
  {
   "cell_type": "code",
   "execution_count": 31,
   "metadata": {},
   "outputs": [],
   "source": [
    "#querying a list and printing it to csv\n",
    "for city in city_names:\n",
    "    city_polarity=[]\n",
    "    city_tweets = api.search(q=[city], count=100, since=since_date, until=until_date)\n",
    "    with open('%s_tweets.csv' %city, 'wb') as this_city_file:\n",
    "        this_city_file.write('tweet, sentiment_label\\n')\n",
    "        for tweet in city_tweets:\n",
    "            analysis= TextBlob(tweet.text)\n",
    "            city_polarity.append(analysis.sentiment[0])\n",
    "            this_city_file.write('%s,%s\\n' %(tweet.text.encode('utf8'),get_label(analysis)))\n",
    "    \n",
    "   "
   ]
  },
  {
   "cell_type": "code",
   "execution_count": null,
   "metadata": {
    "collapsed": true
   },
   "outputs": [],
   "source": []
  }
 ],
 "metadata": {
  "kernelspec": {
   "display_name": "Python 2",
   "language": "python",
   "name": "python2"
  },
  "language_info": {
   "codemirror_mode": {
    "name": "ipython",
    "version": 2
   },
   "file_extension": ".py",
   "mimetype": "text/x-python",
   "name": "python",
   "nbconvert_exporter": "python",
   "pygments_lexer": "ipython2",
   "version": "2.7.14"
  }
 },
 "nbformat": 4,
 "nbformat_minor": 2
}
